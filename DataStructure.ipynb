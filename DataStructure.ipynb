{
  "nbformat": 4,
  "nbformat_minor": 0,
  "metadata": {
    "colab": {
      "provenance": [],
      "authorship_tag": "ABX9TyMBYB/Y0gSZK9XYQsMw8mCk",
      "include_colab_link": true
    },
    "kernelspec": {
      "name": "python3",
      "display_name": "Python 3"
    },
    "language_info": {
      "name": "python"
    }
  },
  "cells": [
    {
      "cell_type": "markdown",
      "metadata": {
        "id": "view-in-github",
        "colab_type": "text"
      },
      "source": [
        "<a href=\"https://colab.research.google.com/github/AryaThool/pwskillassignment/blob/main/DataStructure.ipynb\" target=\"_parent\"><img src=\"https://colab.research.google.com/assets/colab-badge.svg\" alt=\"Open In Colab\"/></a>"
      ]
    },
    {
      "cell_type": "markdown",
      "source": [
        "#Data Structure Assignment"
      ],
      "metadata": {
        "id": "BEV6f5AryT53"
      }
    },
    {
      "cell_type": "markdown",
      "source": [
        "#Theory Solutions\n"
      ],
      "metadata": {
        "id": "TPPaCgkPydMM"
      }
    },
    {
      "cell_type": "markdown",
      "source": [
        "1. What are data structures, and why are they important?\n",
        "   - Data structures are specialized formats for organizing, storing, and managing data in a computer so that it can be accessed and modified efficiently. They provide a systematic way of organizing data to enable effective usage and manipulation.\n",
        "   - Importance of Data Structure\n",
        "      - Efficient Data management\n",
        "      -Improved Performance"
      ],
      "metadata": {
        "id": "8ym7C1c5ymZs"
      }
    },
    {
      "cell_type": "markdown",
      "source": [
        "2. Explain the difference between mutable and immutable data types with example.\n",
        "   - Mutable data types are the objects whose content can be modified after creation.\n",
        "      - Eg:- List, Dictionary etc.\n",
        "   - Immutable functions are those objects whose content cannot be modified once created\n",
        "      - Eg:- int, float, char, tuple etc.    "
      ],
      "metadata": {
        "id": "gEEvkQ-tzK3W"
      }
    },
    {
      "cell_type": "markdown",
      "source": [
        "3. What are the main differences between lists and tuples in Python?\n",
        "   - Lists are mutable (can be changed), whereas tuples are immutable (cannot be changed after creation).\n",
        "\n",
        "   - Lists use more memory but are flexible, while tuples are faster due to their immutability.\n",
        "\n",
        "   - Syntax: list = [1, 2, 3], tuple = (1, 2, 3)"
      ],
      "metadata": {
        "id": "pf6YETwV0FBi"
      }
    },
    {
      "cell_type": "markdown",
      "source": [
        "4. Describe how dictionaries store data?\n",
        "   - Dictionaries store data as key-value pairs using a structure called a hash table.\n",
        "\n",
        "   - Keys are hashed to a specific index where their corresponding values are stored."
      ],
      "metadata": {
        "id": "XkiTAqAi0Z4x"
      }
    },
    {
      "cell_type": "markdown",
      "source": [
        "5. Why might you use a set instead of a list in Python?\n",
        "   - Duplicates should be avoided.\n",
        "\n",
        "   - Faster membership tests are required (O(1) in sets vs. O(n) in lists)."
      ],
      "metadata": {
        "id": "AFFhizFj0jbv"
      }
    },
    {
      "cell_type": "markdown",
      "source": [
        "6. What is a string in Python, and how is it different from a list?\n",
        "   - A string is an immutable sequence of characters, while a list is a mutable sequence of elements (which can be of any type).\n",
        "   - You can change elements in a list but not in a string."
      ],
      "metadata": {
        "id": "DE5osNVO03kA"
      }
    },
    {
      "cell_type": "markdown",
      "source": [
        "7. How do tuples ensure data integrity in Python?\n",
        "  - Tuples are immutable, making them ideal for data that must not change (e.\n",
        "     g., coordinates, configurations), thus ensuring integrity."
      ],
      "metadata": {
        "id": "PRBNmAC01Dvc"
      }
    },
    {
      "cell_type": "markdown",
      "source": [
        "8. What is a hash table, and how does it relate to dictionaries in Python?\n",
        "   - A hash table maps keys to indices using a hash function.\n",
        "\n",
        "   - Dictionaries in Python are implemented using hash tables to allow fast key-based lookups.\n",
        "\n"
      ],
      "metadata": {
        "id": "oEUWtx0m1XVD"
      }
    },
    {
      "cell_type": "markdown",
      "source": [
        "9. Can lists contain different data types in Python?\n",
        "   - Yes, lists can contain multiple data type"
      ],
      "metadata": {
        "id": "CZuEtf2-1uIF"
      }
    },
    {
      "cell_type": "markdown",
      "source": [
        "10. Explain why strings are immutable in Python\n",
        "    - Immutability allows memory optimization, thread safety, and makes strings hashable (usable as dictionary keys or set elements).\n",
        "\n"
      ],
      "metadata": {
        "id": "Lt9CFxP614EQ"
      }
    },
    {
      "cell_type": "markdown",
      "source": [
        "11. What advantages do dictionaries offer over lists for certain tasks?\n",
        "    - Fast lookups (O(1))\n",
        "\n",
        "    - Meaningful access via keys\n",
        "\n",
        "    - Better structure for data where a key-value relationship is needed"
      ],
      "metadata": {
        "id": "MKdTIFK72AY2"
      }
    },
    {
      "cell_type": "markdown",
      "source": [
        "12.  Describe a scenario where using a tuple would be preferable over a list.\n",
        "     - When data must remain unchanged, such as:\n",
        "\n",
        "         - Coordinates\n",
        "\n",
        "         - Function returns that should not be altered"
      ],
      "metadata": {
        "id": "il0383i02ZL5"
      }
    },
    {
      "cell_type": "markdown",
      "source": [
        "13. How do sets handle duplicate values in Python?\n",
        "    - Sets automatically remove duplicates.\n",
        "Example: set([1, 2, 2, 3]) → {1, 2, 3}"
      ],
      "metadata": {
        "id": "yL1Lg84P2m5T"
      }
    },
    {
      "cell_type": "markdown",
      "source": [
        "14. How does the “in” keyword work differently for lists and dictionaries?\n",
        "    - In lists: checks for value presence.\n",
        "\n",
        "    - In dictionaries: checks for key presence, not values."
      ],
      "metadata": {
        "id": "v2nadWnm20BC"
      }
    },
    {
      "cell_type": "markdown",
      "source": [
        "15. Can you modify the elements of a tuple? Explain why or why not?\n",
        "   - No, tuples are immutable—once created, elements cannot be changed or replaced."
      ],
      "metadata": {
        "id": "E9kQyKMg2_oi"
      }
    },
    {
      "cell_type": "markdown",
      "source": [
        "16. What is a nested dictionary, and give an example of its use case?\n",
        "    - A nested dictionary has dictionaries as values.\n",
        "    - Useful for representing structured data (e.g., JSON objects)."
      ],
      "metadata": {
        "id": "vaDjHrfr3IOn"
      }
    },
    {
      "cell_type": "markdown",
      "source": [
        "17. Describe the time complexity of accessing elements in a dictionary?\n",
        "    - Access time is O(1) (average case), thanks to hashing."
      ],
      "metadata": {
        "id": "gSmgVpFM3fmE"
      }
    },
    {
      "cell_type": "markdown",
      "source": [
        "18. In what situations are lists preferred over dictionaries?\n",
        "   - Order matters\n",
        "\n",
        "    - You only need indexed access\n",
        "\n",
        "    - Data does not have natural keys"
      ],
      "metadata": {
        "id": "r15eY0qI3miI"
      }
    },
    {
      "cell_type": "markdown",
      "source": [
        "19. Why are dictionaries considered unordered, and how does that affect data retrieval?\n",
        "   - Dictionaries didn’t maintain insertion order"
      ],
      "metadata": {
        "id": "YL7TS3mK31t_"
      }
    },
    {
      "cell_type": "markdown",
      "source": [
        "20. Explain the difference between a list and a dictionary in terms of data retrieval.\n",
        "    - List: Access by index (e.g., mylist[2])\n",
        "\n",
        "    - Dictionary: Access by key (e.g., mydict[\"name\"]) → allows more meaningful retrieval\n",
        "\n"
      ],
      "metadata": {
        "id": "8zOkZnI53_wM"
      }
    },
    {
      "cell_type": "markdown",
      "source": [
        "# Practical Solutions"
      ],
      "metadata": {
        "id": "aNKnoH174G7-"
      }
    },
    {
      "cell_type": "code",
      "source": [],
      "metadata": {
        "id": "-DY52BG44M0Y"
      },
      "execution_count": null,
      "outputs": []
    }
  ]
}