{
  "nbformat": 4,
  "nbformat_minor": 0,
  "metadata": {
    "colab": {
      "provenance": [],
      "toc_visible": true,
      "authorship_tag": "ABX9TyPMsivJMknsRQsEZ0GdcG01",
      "include_colab_link": true
    },
    "kernelspec": {
      "name": "python3",
      "display_name": "Python 3"
    },
    "language_info": {
      "name": "python"
    }
  },
  "cells": [
    {
      "cell_type": "markdown",
      "metadata": {
        "id": "view-in-github",
        "colab_type": "text"
      },
      "source": [
        "<a href=\"https://colab.research.google.com/github/AryaThool/pwskillassignment/blob/main/PythonBasics.ipynb\" target=\"_parent\"><img src=\"https://colab.research.google.com/assets/colab-badge.svg\" alt=\"Open In Colab\"/></a>"
      ]
    },
    {
      "cell_type": "markdown",
      "source": [
        "# Assignment for Python Basics\n"
      ],
      "metadata": {
        "id": "ldPm3hQCgr11"
      }
    },
    {
      "cell_type": "markdown",
      "source": [
        "# Theory Solutions"
      ],
      "metadata": {
        "id": "J5A0YCTFOakQ"
      }
    },
    {
      "cell_type": "markdown",
      "source": [
        "1. What is Python, and why is it popular\n",
        "   - Python is a high-level, interpreted, general-purpose programming language known for its readability, simplicity, and versatility.\n",
        "   -Popularity reasons include:\n",
        "     - Simple syntax resembling English\n",
        "     -Extensive standard library\n",
        "     -Broad community support\n",
        "     -Cross-platform compatibility\n",
        "     -Widely used in web development, data science, AI, automation, and\n",
        "      more"
      ],
      "metadata": {
        "id": "gT_2idr4LPq_"
      }
    },
    {
      "cell_type": "markdown",
      "source": [
        "2.What is an interpreter in Python?\n",
        "  - An interpreter in Python is a program that reads and executes Python code line-by-line. It converts high-level code into machine-understandable instructions during runtime, enabling rapid testing and development.\n",
        "\n"
      ],
      "metadata": {
        "id": "7ZON_UXLL5-V"
      }
    },
    {
      "cell_type": "markdown",
      "source": [
        "3.What are pre-defined keywords in Python\n",
        "  - Pre-defined keywords are reserved words in Python that have special syntactic meaning and cannot be used for identifiers like variable or function names."
      ],
      "metadata": {
        "id": "OK83kR0GL_cv"
      }
    },
    {
      "cell_type": "markdown",
      "source": [
        "4.Can keywords be used as variable names?\n",
        "  - No, keywords cannot be used as variable names because they are reserved for specific language functionalities."
      ],
      "metadata": {
        "id": "9tfh0VpUMIJV"
      }
    },
    {
      "cell_type": "markdown",
      "source": [
        "5.What is mutability in Python?\n",
        "  - Mutability refers to an object’s ability to be changed after its creation. Mutable objects can be modified in-place, while immutable objects cannot."
      ],
      "metadata": {
        "id": "HYcOTgfRMUVj"
      }
    },
    {
      "cell_type": "markdown",
      "source": [
        "6.Why are lists mutable, but tuples are immutable\n",
        "  - Tuples are immutable to ensure data integrity, especially when used as keys in dictionaries or fixed collections."
      ],
      "metadata": {
        "id": "O2WHcQBFMaDa"
      }
    },
    {
      "cell_type": "markdown",
      "source": [
        "7.What is the difference between “==” and “is” operators in Python\n",
        "   - == compares values (e.g., content of objects)\n",
        "   - is compares identities (e.g., whether two references point to the same memory location)"
      ],
      "metadata": {
        "id": "gtvF-uIoMilp"
      }
    },
    {
      "cell_type": "markdown",
      "source": [
        "8.What are logical operators in Python\n",
        "  - Logical operators are used to combine conditional statements:\n",
        "      - and – True if both conditions are true\n",
        "      - or – True if at least one condition is true\n",
        "      - not – Inverts the Boolean value"
      ],
      "metadata": {
        "id": "t9OVKjUoMzWN"
      }
    },
    {
      "cell_type": "markdown",
      "source": [
        "9.What is type casting in Python\n",
        "  - Type casting is the process of converting one data type into another, such as converting a string to an integer or a float to a string."
      ],
      "metadata": {
        "id": "t56J4EA0NSS1"
      }
    },
    {
      "cell_type": "markdown",
      "source": [
        "10.What is the difference between implicit and explicit type casting\n",
        "   - Implicit Casting: Done automatically by Python (e.g., int + float results in a float)\n",
        "\n",
        "   - Explicit Casting: Done manually using functions like int(), float(), str(), etc."
      ],
      "metadata": {
        "id": "COzBpSFRNbh2"
      }
    },
    {
      "cell_type": "markdown",
      "source": [
        "11.What is the purpose of conditional statements in Python\n",
        "   - Conditional statements control the flow of execution based on certain conditions. They enable decision-making using if, elif, and else."
      ],
      "metadata": {
        "id": "8JO_yl4CNmkh"
      }
    },
    {
      "cell_type": "markdown",
      "source": [
        "12.How does the elif statement work\n",
        "   - The elif (else-if) statement checks multiple expressions for truth value after an initial if. It executes the first true condition and skips the rest."
      ],
      "metadata": {
        "id": "UejP0h4YNtAe"
      }
    },
    {
      "cell_type": "markdown",
      "source": [
        "13.What is the difference between for and while loops\n",
        "   - for loop: Iterates over a sequence (like list, string, range) for a known number of times\n",
        "\n",
        "   - while loop: Continues as long as a specified condition is true; used when the number of iterations is not known in advance\n",
        "\n"
      ],
      "metadata": {
        "id": "jWL4ztWqNytV"
      }
    },
    {
      "cell_type": "markdown",
      "source": [
        "14. Describe a scenario where a while loop is more suitable than a for loop.\n",
        "   - A while loop is ideal for user input validation.\n",
        "\n",
        ""
      ],
      "metadata": {
        "id": "C9-3PTsfN56D"
      }
    },
    {
      "cell_type": "markdown",
      "source": [
        "# Practical Solutions"
      ],
      "metadata": {
        "id": "WR53DhLOONsq"
      }
    },
    {
      "cell_type": "code",
      "source": [
        "#Write a Python program to print \"Hello, World!\"\n",
        "print(\"Hello World!\")"
      ],
      "metadata": {
        "colab": {
          "base_uri": "https://localhost:8080/"
        },
        "id": "hs1fk7N9hSKv",
        "outputId": "10d8d949-c7dd-4ead-828b-de5d7a026481"
      },
      "execution_count": null,
      "outputs": [
        {
          "output_type": "stream",
          "name": "stdout",
          "text": [
            "Hello World!\n"
          ]
        }
      ]
    },
    {
      "cell_type": "code",
      "source": [
        "#Write a Python program that displays your name and age\n",
        "name = \"Arya Thool\"\n",
        "age = 19\n",
        "print(\"Name: \",name)\n",
        "print(\"Age: \",age)"
      ],
      "metadata": {
        "colab": {
          "base_uri": "https://localhost:8080/"
        },
        "id": "XkgNZqNWhkcn",
        "outputId": "17881c27-6919-458c-e12a-62da9bdd6d27"
      },
      "execution_count": null,
      "outputs": [
        {
          "output_type": "stream",
          "name": "stdout",
          "text": [
            "Name:  Arya Thool\n",
            "Age:  19\n"
          ]
        }
      ]
    },
    {
      "cell_type": "code",
      "source": [
        "# Write code to print all the pre-defined keywords in Python using the keyword library\n",
        "help('keywords')"
      ],
      "metadata": {
        "colab": {
          "base_uri": "https://localhost:8080/"
        },
        "id": "MHZj10sViks_",
        "outputId": "58c12e5c-a98f-4116-b6b2-380d5333492c"
      },
      "execution_count": null,
      "outputs": [
        {
          "output_type": "stream",
          "name": "stdout",
          "text": [
            "\n",
            "Here is a list of the Python keywords.  Enter any keyword to get more help.\n",
            "\n",
            "False               class               from                or\n",
            "None                continue            global              pass\n",
            "True                def                 if                  raise\n",
            "and                 del                 import              return\n",
            "as                  elif                in                  try\n",
            "assert              else                is                  while\n",
            "async               except              lambda              with\n",
            "await               finally             nonlocal            yield\n",
            "break               for                 not                 \n",
            "\n"
          ]
        }
      ]
    },
    {
      "cell_type": "code",
      "source": [
        "#Write a program that checks if a given word is a Python keyword\n",
        "import keyword\n",
        "word = input(\"Enter a word:\")\n",
        "if keyword.iskeyword(word):\n",
        "  print(word,\" is a keyword\")\n",
        "else:\n",
        "  print(word,\" is not a keyword\")"
      ],
      "metadata": {
        "colab": {
          "base_uri": "https://localhost:8080/"
        },
        "id": "ePSK5b70j5oO",
        "outputId": "8b9499b0-d845-4221-8b8a-30da9d342f21"
      },
      "execution_count": null,
      "outputs": [
        {
          "output_type": "stream",
          "name": "stdout",
          "text": [
            "Enter a word:import\n",
            "import  is a keyword\n"
          ]
        }
      ]
    },
    {
      "cell_type": "code",
      "source": [
        "# Create a list and tuple in Python, and demonstrate how attempting to change an element works differently for each\n",
        "list = [1,2,3,4,5]\n",
        "print(\"List before changing element:\",list)\n",
        "list[3] = 6\n",
        "print(\"List after cahnging element:\",list)\n",
        "tuple = (1,2,3,4,5)\n",
        "print(\"Tuple before changing element:\",tuple)\n",
        "try:\n",
        "  tuple[3] = 6\n",
        "  print(\"Tuple after changing element:\",tuple)\n",
        "except:\n",
        "  print(\"Error when modifying tuple: 'tuple' object does not support item assignment\")"
      ],
      "metadata": {
        "colab": {
          "base_uri": "https://localhost:8080/"
        },
        "id": "rK9nDuU2l7aX",
        "outputId": "48fa2ce8-c21c-4681-8c32-0720bb7f1cd4"
      },
      "execution_count": null,
      "outputs": [
        {
          "output_type": "stream",
          "name": "stdout",
          "text": [
            "List before changing element: [1, 2, 3, 4, 5]\n",
            "List after cahnging element: [1, 2, 3, 6, 5]\n",
            "Tuple before changing element: (1, 2, 3, 4, 5)\n",
            "Error when modifying tuple: 'tuple' object does not support item assignment\n"
          ]
        }
      ]
    },
    {
      "cell_type": "code",
      "source": [
        "#Write a function to demonstrate the behavior of mutable and immutable arguments\n",
        "def modify(x, y):\n",
        "    x = x + 5\n",
        "    y.append(5)\n",
        "a = 10\n",
        "b = [1, 2, 3]\n",
        "modify(a, b)\n",
        "print(\"a (immutable):\", a)\n",
        "print(\"b (mutable):\", b)"
      ],
      "metadata": {
        "colab": {
          "base_uri": "https://localhost:8080/"
        },
        "id": "NKHY8rPMramF",
        "outputId": "9e4621ba-7450-461c-f958-5d3bc7779b9c"
      },
      "execution_count": null,
      "outputs": [
        {
          "output_type": "stream",
          "name": "stdout",
          "text": [
            "a (immutable): 10\n",
            "b (mutable): [1, 2, 3, 5]\n"
          ]
        }
      ]
    },
    {
      "cell_type": "code",
      "source": [
        "# Write a program that performs basic arithmetic operations on two user-input numbers\n",
        "num1 = int(input(\"Enter num1: \"))\n",
        "num2 = int(input(\"Enter num2: \"))\n",
        "print(\"Addition: \",num1+num2)\n",
        "print(\"Subtraction: \",num1-num2)\n",
        "print(\"Multiplication: \",num1*num2)\n",
        "print(\"Division: \",num1/num2)"
      ],
      "metadata": {
        "colab": {
          "base_uri": "https://localhost:8080/"
        },
        "id": "EG_Qb65Bs-mb",
        "outputId": "5915aa86-8139-4f45-fcfb-59ba93d2d5da"
      },
      "execution_count": null,
      "outputs": [
        {
          "output_type": "stream",
          "name": "stdout",
          "text": [
            "Enter num1: 10\n",
            "Enter num2: 5\n",
            "Addition:  15\n",
            "Subtraction:  5\n",
            "Multiplication:  50\n",
            "Division:  2.0\n"
          ]
        }
      ]
    },
    {
      "cell_type": "code",
      "source": [
        "#Write a program to demonstrate the use of logical operators\n",
        "a = True\n",
        "b = False\n",
        "\n",
        "print(\"a =\", a)\n",
        "print(\"b =\", b)\n",
        "\n",
        "print(\"\\na and b:\", a and b)  # False\n",
        "\n",
        "print(\"a or b :\", a or b)     # True\n",
        "\n",
        "print(\"not a  :\", not a)      # False\n",
        "print(\"not b  :\", not b)      # True\n"
      ],
      "metadata": {
        "colab": {
          "base_uri": "https://localhost:8080/"
        },
        "id": "82N3X1IQtTQX",
        "outputId": "7f9e610c-d1ee-417b-d62d-d1c6b0fa49a7"
      },
      "execution_count": null,
      "outputs": [
        {
          "output_type": "stream",
          "name": "stdout",
          "text": [
            "a = True\n",
            "b = False\n",
            "\n",
            "a and b: False\n",
            "a or b : True\n",
            "not a  : False\n",
            "not b  : True\n"
          ]
        }
      ]
    },
    {
      "cell_type": "code",
      "source": [
        "#Write a Python program to convert user input from string to integer, float, and boolean types.\n",
        "def convert_input():\n",
        "  user_input = input(\"Enter a value: \")\n",
        "  try:\n",
        "    integer_value = int(user_input)\n",
        "    float_value = float(user_input)\n",
        "    boolean_value = bool(user_input)\n",
        "    print(\"Integer value:\", integer_value)\n",
        "    print(\"Float value:\", float_value)\n",
        "    print(\"Boolean value:\", boolean_value)\n",
        "  except ValueError:\n",
        "    print(\"Cannot convert string input Type\")\n",
        "convert_input()"
      ],
      "metadata": {
        "id": "AEhsYVLzzuYc",
        "colab": {
          "base_uri": "https://localhost:8080/"
        },
        "outputId": "ff5ff764-d1fe-44e4-93af-5f8ca35b099b"
      },
      "execution_count": 6,
      "outputs": [
        {
          "output_type": "stream",
          "name": "stdout",
          "text": [
            "Enter a value: Arya\n",
            "Cannot convert string input Type\n"
          ]
        }
      ]
    },
    {
      "cell_type": "code",
      "source": [
        "# Write code to demonstrate type casting with list elements.\n",
        "def type_cast():\n",
        "  list = [10,3.12,True,False,0,100,20.5]\n",
        "  print(\"List before type casting:\",list)\n",
        "  int_list = []\n",
        "  for i in list:\n",
        "    try:\n",
        "      int_values = int(float(i))\n",
        "      int_list.append(int_values)\n",
        "    except:\n",
        "      int_list.append(None)\n",
        "  print(\"As integer: \",int_list)\n",
        "  float_list = []\n",
        "  for i in list:\n",
        "    try:\n",
        "      float_values = float(i)\n",
        "      float_list.append(float_values)\n",
        "    except:\n",
        "      float_list.append(None)\n",
        "  print(\"As Float: \",float_list)\n",
        "  bool_list = []\n",
        "  for i in list:\n",
        "    try:\n",
        "      bool_values = bool(float(i))\n",
        "      bool_list.append(bool_values)\n",
        "    except:\n",
        "      bool_list.append(None)\n",
        "  print(\"As Boolean: \",bool_list)\n",
        "type_cast()"
      ],
      "metadata": {
        "colab": {
          "base_uri": "https://localhost:8080/"
        },
        "id": "nutJJuePCsQq",
        "outputId": "f1aca6ed-ba0c-4e32-f998-0e1d2acc4a1c"
      },
      "execution_count": 9,
      "outputs": [
        {
          "output_type": "stream",
          "name": "stdout",
          "text": [
            "List before type casting: [10, 3.12, True, False, 0, 100, 20.5]\n",
            "As integer:  [10, 3, 1, 0, 0, 100, 20]\n",
            "As Float:  [10.0, 3.12, 1.0, 0.0, 0.0, 100.0, 20.5]\n",
            "As Boolean:  [True, True, True, False, False, True, True]\n"
          ]
        }
      ]
    },
    {
      "cell_type": "code",
      "source": [
        "# Write a program that checks if a number is positive, negative, or zero.\n",
        "number  = int(input(\"Enter the number: \"))\n",
        "if number > 0:\n",
        "  print(\"Positive Number\")\n",
        "elif number < 0:\n",
        "  print(\"Negative Number\")\n",
        "elif number == 0:\n",
        "  print(\"Number equals to 0\")\n",
        "else:\n",
        "  print(\"Invalid Number\")"
      ],
      "metadata": {
        "colab": {
          "base_uri": "https://localhost:8080/"
        },
        "id": "ncI85ob6GQ2A",
        "outputId": "5e878074-948e-4f3f-c5ac-b80bf9458bcd"
      },
      "execution_count": 13,
      "outputs": [
        {
          "output_type": "stream",
          "name": "stdout",
          "text": [
            "Enter the number: -9\n",
            "Negative Number\n"
          ]
        }
      ]
    },
    {
      "cell_type": "code",
      "source": [
        "#Write a for loop to print numbers from 1 to 10.\n",
        "for i in range(1,11):\n",
        "  print(i)"
      ],
      "metadata": {
        "colab": {
          "base_uri": "https://localhost:8080/"
        },
        "id": "dl45iiwaHFak",
        "outputId": "07955bed-9387-4cb4-c7b6-74c9ff0f059a"
      },
      "execution_count": 17,
      "outputs": [
        {
          "output_type": "stream",
          "name": "stdout",
          "text": [
            "1\n",
            "2\n",
            "3\n",
            "4\n",
            "5\n",
            "6\n",
            "7\n",
            "8\n",
            "9\n",
            "10\n"
          ]
        }
      ]
    },
    {
      "cell_type": "code",
      "source": [
        "#Write a Python program to find the sum of all even numbers between 1 and 50.\n",
        "even_sum = 0\n",
        "for i in range(1,51):\n",
        "  if i%2 == 0:\n",
        "    even_sum = even_sum+i\n",
        "  else:\n",
        "    continue\n",
        "print(\"Sum of Even Numbers from 1 to 50: \", even_sum)"
      ],
      "metadata": {
        "colab": {
          "base_uri": "https://localhost:8080/"
        },
        "id": "-mkaSG2WHWZJ",
        "outputId": "1372b377-9dbe-4170-b7c0-ac932c599788"
      },
      "execution_count": 20,
      "outputs": [
        {
          "output_type": "stream",
          "name": "stdout",
          "text": [
            "Sum of Even Numbers from 1 to 50:  650\n"
          ]
        }
      ]
    },
    {
      "cell_type": "code",
      "source": [
        "#Write a program to reverse a string using a while loop.\n",
        "text = input(\"Enter the text: \")\n",
        "reverse_text = ''\n",
        "index = len(text)-1\n",
        "while index>=0:\n",
        "  reverse_text = reverse_text+text[index]\n",
        "  index-=1\n",
        "print(\"Reversed String: \", reverse_text)"
      ],
      "metadata": {
        "colab": {
          "base_uri": "https://localhost:8080/"
        },
        "id": "jwtlXiq4IRw1",
        "outputId": "ebafb666-f19b-4be3-80ac-33c75d691a51"
      },
      "execution_count": 21,
      "outputs": [
        {
          "output_type": "stream",
          "name": "stdout",
          "text": [
            "Enter the text: Arya\n",
            "Reversed String:  ayrA\n"
          ]
        }
      ]
    },
    {
      "cell_type": "code",
      "source": [
        "#Write a Python program to calculate the factorial of a number provided by the user using a while loop.\n",
        "number = int(input(\"Enter the number: \"))\n",
        "factorial = 1\n",
        "while number>0:\n",
        "  factorial = factorial*number\n",
        "  number-=1\n",
        "print(\"Factorial: \",factorial)\n"
      ],
      "metadata": {
        "colab": {
          "base_uri": "https://localhost:8080/"
        },
        "id": "BINJwt8EJGyh",
        "outputId": "906242b4-d7fb-43c0-f172-7fc660af9cf6"
      },
      "execution_count": 27,
      "outputs": [
        {
          "output_type": "stream",
          "name": "stdout",
          "text": [
            "Enter the number: 5\n",
            "Factorial:  120\n"
          ]
        }
      ]
    }
  ]
}