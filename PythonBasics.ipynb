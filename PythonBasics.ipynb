{
  "nbformat": 4,
  "nbformat_minor": 0,
  "metadata": {
    "colab": {
      "provenance": [],
      "toc_visible": true,
      "authorship_tag": "ABX9TyN0Dyr+L9vfKUUeSj+deYe6",
      "include_colab_link": true
    },
    "kernelspec": {
      "name": "python3",
      "display_name": "Python 3"
    },
    "language_info": {
      "name": "python"
    }
  },
  "cells": [
    {
      "cell_type": "markdown",
      "metadata": {
        "id": "view-in-github",
        "colab_type": "text"
      },
      "source": [
        "<a href=\"https://colab.research.google.com/github/AryaThool/pwskillassignment/blob/main/PythonBasics.ipynb\" target=\"_parent\"><img src=\"https://colab.research.google.com/assets/colab-badge.svg\" alt=\"Open In Colab\"/></a>"
      ]
    },
    {
      "cell_type": "markdown",
      "source": [
        "# Assignment for Python Basics\n"
      ],
      "metadata": {
        "id": "ldPm3hQCgr11"
      }
    },
    {
      "cell_type": "code",
      "source": [
        "#Write a Python program to print \"Hello, World!\"\n",
        "print(\"Hello World!\")"
      ],
      "metadata": {
        "colab": {
          "base_uri": "https://localhost:8080/"
        },
        "id": "hs1fk7N9hSKv",
        "outputId": "10d8d949-c7dd-4ead-828b-de5d7a026481"
      },
      "execution_count": 37,
      "outputs": [
        {
          "output_type": "stream",
          "name": "stdout",
          "text": [
            "Hello World!\n"
          ]
        }
      ]
    },
    {
      "cell_type": "code",
      "source": [
        "#Write a Python program that displays your name and age\n",
        "name = \"Arya Thool\"\n",
        "age = 19\n",
        "print(\"Name: \",name)\n",
        "print(\"Age: \",age)"
      ],
      "metadata": {
        "colab": {
          "base_uri": "https://localhost:8080/"
        },
        "id": "XkgNZqNWhkcn",
        "outputId": "17881c27-6919-458c-e12a-62da9bdd6d27"
      },
      "execution_count": 38,
      "outputs": [
        {
          "output_type": "stream",
          "name": "stdout",
          "text": [
            "Name:  Arya Thool\n",
            "Age:  19\n"
          ]
        }
      ]
    },
    {
      "cell_type": "code",
      "source": [
        "# Write code to print all the pre-defined keywords in Python using the keyword library\n",
        "help('keywords')"
      ],
      "metadata": {
        "colab": {
          "base_uri": "https://localhost:8080/"
        },
        "id": "MHZj10sViks_",
        "outputId": "58c12e5c-a98f-4116-b6b2-380d5333492c"
      },
      "execution_count": 5,
      "outputs": [
        {
          "output_type": "stream",
          "name": "stdout",
          "text": [
            "\n",
            "Here is a list of the Python keywords.  Enter any keyword to get more help.\n",
            "\n",
            "False               class               from                or\n",
            "None                continue            global              pass\n",
            "True                def                 if                  raise\n",
            "and                 del                 import              return\n",
            "as                  elif                in                  try\n",
            "assert              else                is                  while\n",
            "async               except              lambda              with\n",
            "await               finally             nonlocal            yield\n",
            "break               for                 not                 \n",
            "\n"
          ]
        }
      ]
    },
    {
      "cell_type": "code",
      "source": [
        "#Write a program that checks if a given word is a Python keyword\n",
        "import keyword\n",
        "word = input(\"Enter a word:\")\n",
        "if keyword.iskeyword(word):\n",
        "  print(word,\" is a keyword\")\n",
        "else:\n",
        "  print(word,\" is not a keyword\")"
      ],
      "metadata": {
        "colab": {
          "base_uri": "https://localhost:8080/"
        },
        "id": "ePSK5b70j5oO",
        "outputId": "8b9499b0-d845-4221-8b8a-30da9d342f21"
      },
      "execution_count": 11,
      "outputs": [
        {
          "output_type": "stream",
          "name": "stdout",
          "text": [
            "Enter a word:import\n",
            "import  is a keyword\n"
          ]
        }
      ]
    },
    {
      "cell_type": "code",
      "source": [
        "# Create a list and tuple in Python, and demonstrate how attempting to change an element works differently for each\n",
        "list = [1,2,3,4,5]\n",
        "print(\"List before changing element:\",list)\n",
        "list[3] = 6\n",
        "print(\"List after cahnging element:\",list)\n",
        "tuple = (1,2,3,4,5)\n",
        "print(\"Tuple before changing element:\",tuple)\n",
        "try:\n",
        "  tuple[3] = 6\n",
        "  print(\"Tuple after changing element:\",tuple)\n",
        "except:\n",
        "  print(\"Error when modifying tuple: 'tuple' object does not support item assignment\")"
      ],
      "metadata": {
        "colab": {
          "base_uri": "https://localhost:8080/"
        },
        "id": "rK9nDuU2l7aX",
        "outputId": "48fa2ce8-c21c-4681-8c32-0720bb7f1cd4"
      },
      "execution_count": 27,
      "outputs": [
        {
          "output_type": "stream",
          "name": "stdout",
          "text": [
            "List before changing element: [1, 2, 3, 4, 5]\n",
            "List after cahnging element: [1, 2, 3, 6, 5]\n",
            "Tuple before changing element: (1, 2, 3, 4, 5)\n",
            "Error when modifying tuple: 'tuple' object does not support item assignment\n"
          ]
        }
      ]
    },
    {
      "cell_type": "code",
      "source": [
        "#Write a function to demonstrate the behavior of mutable and immutable arguments\n",
        "def modify(x, y):\n",
        "    x = x + 5\n",
        "    y.append(5)\n",
        "a = 10\n",
        "b = [1, 2, 3]\n",
        "modify(a, b)\n",
        "print(\"a (immutable):\", a)\n",
        "print(\"b (mutable):\", b)"
      ],
      "metadata": {
        "colab": {
          "base_uri": "https://localhost:8080/"
        },
        "id": "NKHY8rPMramF",
        "outputId": "9e4621ba-7450-461c-f958-5d3bc7779b9c"
      },
      "execution_count": 22,
      "outputs": [
        {
          "output_type": "stream",
          "name": "stdout",
          "text": [
            "a (immutable): 10\n",
            "b (mutable): [1, 2, 3, 5]\n"
          ]
        }
      ]
    },
    {
      "cell_type": "code",
      "source": [
        "# Write a program that performs basic arithmetic operations on two user-input numbers\n",
        "num1 = int(input(\"Enter num1: \"))\n",
        "num2 = int(input(\"Enter num2: \"))\n",
        "print(\"Addition: \",num1+num2)\n",
        "print(\"Subtraction: \",num1-num2)\n",
        "print(\"Multiplication: \",num1*num2)\n",
        "print(\"Division: \",num1/num2)"
      ],
      "metadata": {
        "colab": {
          "base_uri": "https://localhost:8080/"
        },
        "id": "EG_Qb65Bs-mb",
        "outputId": "5915aa86-8139-4f45-fcfb-59ba93d2d5da"
      },
      "execution_count": 23,
      "outputs": [
        {
          "output_type": "stream",
          "name": "stdout",
          "text": [
            "Enter num1: 10\n",
            "Enter num2: 5\n",
            "Addition:  15\n",
            "Subtraction:  5\n",
            "Multiplication:  50\n",
            "Division:  2.0\n"
          ]
        }
      ]
    },
    {
      "cell_type": "code",
      "source": [
        "#Write a program to demonstrate the use of logical operators\n",
        "a = True\n",
        "b = False\n",
        "\n",
        "print(\"a =\", a)\n",
        "print(\"b =\", b)\n",
        "\n",
        "print(\"\\na and b:\", a and b)  # False\n",
        "\n",
        "print(\"a or b :\", a or b)     # True\n",
        "\n",
        "print(\"not a  :\", not a)      # False\n",
        "print(\"not b  :\", not b)      # True\n"
      ],
      "metadata": {
        "colab": {
          "base_uri": "https://localhost:8080/"
        },
        "id": "82N3X1IQtTQX",
        "outputId": "7f9e610c-d1ee-417b-d62d-d1c6b0fa49a7"
      },
      "execution_count": 36,
      "outputs": [
        {
          "output_type": "stream",
          "name": "stdout",
          "text": [
            "a = True\n",
            "b = False\n",
            "\n",
            "a and b: False\n",
            "a or b : True\n",
            "not a  : False\n",
            "not b  : True\n"
          ]
        }
      ]
    },
    {
      "cell_type": "code",
      "source": [],
      "metadata": {
        "id": "AEhsYVLzzuYc"
      },
      "execution_count": null,
      "outputs": []
    }
  ]
}