{
  "nbformat": 4,
  "nbformat_minor": 0,
  "metadata": {
    "colab": {
      "provenance": [],
      "authorship_tag": "ABX9TyPrDYDP6cFkw/ENKxaYyL6d",
      "include_colab_link": true
    },
    "kernelspec": {
      "name": "python3",
      "display_name": "Python 3"
    },
    "language_info": {
      "name": "python"
    }
  },
  "cells": [
    {
      "cell_type": "markdown",
      "metadata": {
        "id": "view-in-github",
        "colab_type": "text"
      },
      "source": [
        "<a href=\"https://colab.research.google.com/github/AryaThool/pwskillassignment/blob/main/OOPS.ipynb\" target=\"_parent\"><img src=\"https://colab.research.google.com/assets/colab-badge.svg\" alt=\"Open In Colab\"/></a>"
      ]
    },
    {
      "cell_type": "markdown",
      "source": [
        "# Theory Solutions"
      ],
      "metadata": {
        "id": "ziH84CQ1paM1"
      }
    },
    {
      "cell_type": "markdown",
      "source": [
        "1. What is Object-Oriented Programming (OOPS)?\n",
        "   - OOP is a programming paradigm that models software design around objects, which contain data (attributes) and methods (functions). Core principles include encapsulation, inheritance, polymorphism, and abstraction.\n",
        "\n",
        "\n",
        "\n"
      ],
      "metadata": {
        "id": "Zqu63kItpiSF"
      }
    },
    {
      "cell_type": "markdown",
      "source": [
        "2. What is a class in OOP?\n",
        "   - A class is a blueprint for creating objects. It defines a set of attributes and methods that the created objects will have."
      ],
      "metadata": {
        "id": "xzbQIiEfp4EI"
      }
    },
    {
      "cell_type": "markdown",
      "source": [
        "3. What is an object in OOP?\n",
        "   - An object is an instance of a class. It represents a specific entity with defined attributes and behaviors."
      ],
      "metadata": {
        "id": "srPcCEXtp_2f"
      }
    },
    {
      "cell_type": "markdown",
      "source": [
        "4. What is the difference between abstraction and encapsulation?\n",
        "   *   Abstraction hides implementation details and shows only the functionality.\n",
        "   *   Encapsulation binds data and methods together and restricts access to internal details using access modifiers.\n",
        "\n"
      ],
      "metadata": {
        "id": "MKZ78agpqGYX"
      }
    },
    {
      "cell_type": "markdown",
      "source": [
        "5. What are dunder methods in Python?\n",
        "   - Dunder methods (double underscores), like __init__, __str__, __repr__, are special methods that Python uses to provide operator overloading and built-in behavior customization."
      ],
      "metadata": {
        "id": "pN9HoDEXqZNL"
      }
    },
    {
      "cell_type": "markdown",
      "source": [
        "6. Explain the concept of inheritance in OOP.\n",
        "   - Inheritance allows a class (child/derived class) to inherit attributes and methods from another class (parent/base class), promoting code reuse."
      ],
      "metadata": {
        "id": "hNthJtp-qhAm"
      }
    },
    {
      "cell_type": "markdown",
      "source": [
        "7. What is polymorphism in OOP?\n",
        "   - Polymorphism allows the same method name or operation to behave differently based on the object or context (e.g., method overriding)."
      ],
      "metadata": {
        "id": "or6L2aNYqo6a"
      }
    },
    {
      "cell_type": "markdown",
      "source": [
        "8. How is encapsulation achieved in Python?\n",
        "   - Encapsulation is done by using private (_var or __var) and protected members, and defining getter/setter methods or using @property decorators.\n",
        "\n"
      ],
      "metadata": {
        "id": "YUByEV0Squrj"
      }
    },
    {
      "cell_type": "markdown",
      "source": [
        "9. What is a constructor in Python?\n",
        "  - A constructor is a special method __init__() that is automatically called when an object is created to initialize its attributes."
      ],
      "metadata": {
        "id": "5FrF5PNIq3r-"
      }
    },
    {
      "cell_type": "markdown",
      "source": [
        "10. What are class and static methods in Python?\n",
        "   - Class methods use @classmethod and take cls as a parameter. They can access and modify class state.\n",
        "\n",
        "   - Static methods use @staticmethod and do not access instance or class-level data.\n",
        "\n"
      ],
      "metadata": {
        "id": "xuDlYOqxq8uZ"
      }
    },
    {
      "cell_type": "markdown",
      "source": [
        "11. What is method overloading in Python?\n",
        "   - Python does not support true method overloading, but similar behavior can be achieved using default parameters or *args/**kwargs."
      ],
      "metadata": {
        "id": "e8l8PILwrJJC"
      }
    },
    {
      "cell_type": "markdown",
      "source": [
        "12. What is method overriding in OOP?\n",
        "   - Method overriding is when a child class provides a specific implementation of a method already defined in the parent class."
      ],
      "metadata": {
        "id": "bFYURHt6rPGq"
      }
    },
    {
      "cell_type": "markdown",
      "source": [
        "13. What is a property decorator in Python?\n",
        "    - @property is a decorator that allows you to define a method as a read-only property, enabling controlled access to private variables like obj.prop instead of obj.get_prop().\n",
        "\n"
      ],
      "metadata": {
        "id": "2Yp7gs3IrUEO"
      }
    },
    {
      "cell_type": "markdown",
      "source": [
        "14. Why is polymorphism important in OOP?\n",
        "   - Polymorphism enhances flexibility and maintainability by allowing code to be written in a general way, with objects of different classes being treated uniformly."
      ],
      "metadata": {
        "id": "ClNokkvurZqC"
      }
    },
    {
      "cell_type": "markdown",
      "source": [
        "15. What is an abstract class in Python?\n",
        "    - An abstract class (from abc module) cannot be instantiated and may contain abstract methods that must be implemented in subclasses."
      ],
      "metadata": {
        "id": "kDacRXhtrfoA"
      }
    },
    {
      "cell_type": "markdown",
      "source": [
        "16. What are the advantages of OOP?\n",
        "   - Modularity through classes\n",
        "   - Reusability via inheritance\n",
        "   - Scalability and maintainability\n",
        "   - Data hiding and security through encapsulation\n",
        "\n"
      ],
      "metadata": {
        "id": "NDPrqfJQrk_K"
      }
    },
    {
      "cell_type": "markdown",
      "source": [
        "17. What is the difference between a class variable and an instance variable?\n",
        "   - Class variables are shared across all instances.\n",
        "   - Instance variables are unique to each object.\n",
        "\n"
      ],
      "metadata": {
        "id": "T750DHOhr4A-"
      }
    },
    {
      "cell_type": "markdown",
      "source": [
        "18. What is multiple inheritance in Python?\n",
        "   - Python allows a class to inherit from multiple parent classes, which can lead to method resolution order (MRO) complexities."
      ],
      "metadata": {
        "id": "MDMlBkvVsAfP"
      }
    },
    {
      "cell_type": "markdown",
      "source": [
        "19. Explain the purpose of __str__ and __repr__ methods in Python.\n",
        "   - __str__: Returns a user-friendly string representation, used with print().\n",
        "   - __repr__: Returns an unambiguous string (developer-oriented), used for debugging.\n",
        "\n"
      ],
      "metadata": {
        "id": "2fpOThoesGF8"
      }
    },
    {
      "cell_type": "markdown",
      "source": [
        "20. What is the significance of the super() function in Python?\n",
        "   - super() is used to call methods of a parent class, especially in constructor chaining and method overriding.\n",
        "\n"
      ],
      "metadata": {
        "id": "tzd5U7i7sQGe"
      }
    },
    {
      "cell_type": "markdown",
      "source": [
        "21. What is the significance of the __del__ method in Python?\n",
        "   - __del__() is a destructor method that is called when an object is about to be destroyed, often used for cleanup.\n",
        "\n"
      ],
      "metadata": {
        "id": "m1hYut-csUsk"
      }
    },
    {
      "cell_type": "markdown",
      "source": [
        "22. What is the difference between @staticmethod and @classmethod in Python?\n",
        "   - @staticmethod: No access to class or instance; behaves like a regular function inside a class.\n",
        "   - @classmethod: Access to the class via cls, useful for factory methods or modifying class state.\n",
        "\n"
      ],
      "metadata": {
        "id": "8ybujnHwseFt"
      }
    },
    {
      "cell_type": "markdown",
      "source": [
        "23. How does polymorphism work in Python with inheritance?\n",
        "   - Python supports polymorphism by allowing subclasses to override methods of the parent class, enabling dynamic method resolution at runtime.\n",
        "\n"
      ],
      "metadata": {
        "id": "S2IScaB9smBG"
      }
    },
    {
      "cell_type": "markdown",
      "source": [
        "24. What is method chaining in Python OOP?\n",
        "   - Method chaining is when multiple methods are called sequentially on the same object, typically returning self in each method."
      ],
      "metadata": {
        "id": "ui8UqUbfsqk-"
      }
    },
    {
      "cell_type": "markdown",
      "source": [
        "25. What is the purpose of the __call__ method in Python?\n",
        "   - The __call__() method allows an object to be called like a function. This is useful for functors and objects acting like functions."
      ],
      "metadata": {
        "id": "fLOnOc-Iswdo"
      }
    },
    {
      "cell_type": "markdown",
      "source": [
        "# Practical Solutions"
      ],
      "metadata": {
        "id": "lxW98fMes3xM"
      }
    },
    {
      "cell_type": "code",
      "source": [
        "# Create a parent class Animal with a method speak() that prints a generic message. Create a child class Dog that overrides the speak() method to print \"Bark!\".\n",
        "class Animal:\n",
        "    def speak(self):\n",
        "        print(\"Generic animal sound\")\n",
        "\n",
        "class Dog(Animal):\n",
        "    def speak(self):\n",
        "        print(\"Bark!\")\n",
        "        super().speak()\n",
        "\n",
        "dog = Dog()\n",
        "dog.speak()"
      ],
      "metadata": {
        "id": "cMCL8Ia-s68C",
        "colab": {
          "base_uri": "https://localhost:8080/"
        },
        "outputId": "22ca9a4e-5e82-4054-dd21-46b831cf3bab"
      },
      "execution_count": 1,
      "outputs": [
        {
          "output_type": "stream",
          "name": "stdout",
          "text": [
            "Bark!\n",
            "Generic animal sound\n"
          ]
        }
      ]
    },
    {
      "cell_type": "code",
      "source": [
        "# Write a program to create an abstract class Shape with a method area(). Derive classes Circle and Rectangle from it and implement the area() method in both.\n",
        "from abc import ABC, abstractmethod\n",
        "import math\n",
        "\n",
        "class Shape(ABC):\n",
        "\n",
        "    @abstractmethod\n",
        "    def area(self):\n",
        "        pass\n",
        "\n",
        "class Circle(Shape):\n",
        "    def __init__(self, radius):\n",
        "        self.radius = radius\n",
        "\n",
        "    def area(self):\n",
        "        return math.pi * self.radius * self.radius\n",
        "\n",
        "class Rectangle(Shape):\n",
        "    def __init__(self, length, width):\n",
        "        self.length = length\n",
        "        self.width = width\n",
        "\n",
        "    def area(self):\n",
        "        return self.length * self.width\n",
        "\n",
        "if __name__ == \"__main__\":\n",
        "    c = Circle(5)\n",
        "    r = Rectangle(4, 6)\n",
        "\n",
        "    print(f\"Area of Circle: {c.area():.2f}\")\n",
        "    print(f\"Area of Rectangle: {r.area():.2f}\")\n",
        ""
      ],
      "metadata": {
        "colab": {
          "base_uri": "https://localhost:8080/"
        },
        "id": "B--lXGku3NOt",
        "outputId": "1bbe2f78-076c-4c49-b86e-8cc37911936f"
      },
      "execution_count": 2,
      "outputs": [
        {
          "output_type": "stream",
          "name": "stdout",
          "text": [
            "Area of Circle: 78.54\n",
            "Area of Rectangle: 24.00\n"
          ]
        }
      ]
    },
    {
      "cell_type": "code",
      "source": [
        "# Implement a multi-level inheritance scenario where a class Vehicle has an attribute type. Derive a class Car and further derive a class ElectricCar that adds a battery attribute.\n",
        "class Vehicle:\n",
        "    def __init__(self, v_type):\n",
        "        self.type = v_type\n",
        "\n",
        "    def display_info(self):\n",
        "        print(f\"Vehicle Type: {self.type}\")\n",
        "\n",
        "class Car(Vehicle):\n",
        "    def __init__(self, v_type, brand):\n",
        "        super().__init__(v_type)\n",
        "        self.brand = brand\n",
        "\n",
        "    def display_info(self):\n",
        "        super().display_info()\n",
        "        print(f\"Car Brand: {self.brand}\")\n",
        "\n",
        "class ElectricCar(Car):\n",
        "    def __init__(self, v_type, brand, battery_capacity):\n",
        "        super().__init__(v_type, brand)\n",
        "        self.battery = battery_capacity\n",
        "\n",
        "    def display_info(self):\n",
        "        super().display_info()\n",
        "        print(f\"Battery Capacity: {self.battery} kWh\")\n",
        "\n",
        "if __name__ == \"__main__\":\n",
        "    tesla = ElectricCar(\"Four Wheeler\", \"Tesla\", 75)\n",
        "    tesla.display_info()\n"
      ],
      "metadata": {
        "colab": {
          "base_uri": "https://localhost:8080/"
        },
        "id": "uAfKhmGJ3fHi",
        "outputId": "3b421265-1a1c-4420-cbf3-5150694aafe8"
      },
      "execution_count": 3,
      "outputs": [
        {
          "output_type": "stream",
          "name": "stdout",
          "text": [
            "Vehicle Type: Four Wheeler\n",
            "Car Brand: Tesla\n",
            "Battery Capacity: 75 kWh\n"
          ]
        }
      ]
    },
    {
      "cell_type": "code",
      "source": [
        "# Demonstrate polymorphism by creating a base class Bird with a method fly(). Create two derived classes Sparrow and Penguin that override the fly() method.\n",
        "class Bird:\n",
        "    def fly(self):\n",
        "        print(\"Some birds can fly.\")\n",
        "\n",
        "class Sparrow(Bird):\n",
        "    def fly(self):\n",
        "        print(\"Sparrow flies high in the sky.\")\n",
        "\n",
        "class Penguin(Bird):\n",
        "    def fly(self):\n",
        "        print(\"Penguins cannot fly, they swim instead.\")\n",
        "\n",
        "def show_flying_ability(bird: Bird):\n",
        "    bird.fly()\n",
        "\n",
        "if __name__ == \"__main__\":\n",
        "    b1 = Sparrow()\n",
        "    b2 = Penguin()\n",
        "\n",
        "    show_flying_ability(b1)\n",
        "    show_flying_ability(b2)\n"
      ],
      "metadata": {
        "colab": {
          "base_uri": "https://localhost:8080/"
        },
        "id": "r8ZsX9e33q-f",
        "outputId": "b97e767e-9007-4c73-c0ae-653b77c5b305"
      },
      "execution_count": 4,
      "outputs": [
        {
          "output_type": "stream",
          "name": "stdout",
          "text": [
            "Sparrow flies high in the sky.\n",
            "Penguins cannot fly, they swim instead.\n"
          ]
        }
      ]
    },
    {
      "cell_type": "code",
      "source": [
        "#Write a program to demonstrate encapsulation by creating a class BankAccount with private attributes balance and methods to deposit, withdraw, and check balance.\n",
        "class BankAccount:\n",
        "    def __init__(self, initial_balance=0):\n",
        "        self.__balance = initial_balance\n",
        "\n",
        "    def deposit(self, amount):\n",
        "        if amount > 0:\n",
        "            self.__balance += amount\n",
        "            print(f\"Deposited: ₹{amount}\")\n",
        "        else:\n",
        "            print(\"Invalid deposit amount.\")\n",
        "\n",
        "    def withdraw(self, amount):\n",
        "        if 0 < amount <= self.__balance:\n",
        "            self.__balance -= amount\n",
        "            print(f\"Withdrew: ₹{amount}\")\n",
        "        else:\n",
        "            print(\"Insufficient balance or invalid amount.\")\n",
        "\n",
        "    def check_balance(self):\n",
        "        print(f\"Current Balance: ₹{self.__balance}\")\n",
        "\n",
        "if __name__ == \"__main__\":\n",
        "    acc = BankAccount(1000)\n",
        "    acc.check_balance()\n",
        "    acc.deposit(500)\n",
        "    acc.withdraw(300)\n",
        "    acc.withdraw(1500)\n",
        "    acc.check_balance()\n",
        "\n"
      ],
      "metadata": {
        "colab": {
          "base_uri": "https://localhost:8080/"
        },
        "id": "MKtaA-0_33pr",
        "outputId": "b4c8d268-be4a-43b5-e864-5171e769147f"
      },
      "execution_count": 5,
      "outputs": [
        {
          "output_type": "stream",
          "name": "stdout",
          "text": [
            "Current Balance: ₹1000\n",
            "Deposited: ₹500\n",
            "Withdrew: ₹300\n",
            "Insufficient balance or invalid amount.\n",
            "Current Balance: ₹1200\n"
          ]
        }
      ]
    },
    {
      "cell_type": "code",
      "source": [
        "# Demonstrate runtime polymorphism using a method play() in a base class Instrument. Derive classes Guitar and Piano that implement their own version of play().\n",
        "class Instrument:\n",
        "    def play(self):\n",
        "        print(\"Playing an instrument...\")\n",
        "\n",
        "class Guitar(Instrument):\n",
        "    def play(self):\n",
        "        print(\"Strumming the guitar strings.\")\n",
        "\n",
        "class Piano(Instrument):\n",
        "    def play(self):\n",
        "        print(\"Pressing the piano keys.\")\n",
        "\n",
        "def perform(instrument: Instrument):\n",
        "    instrument.play()\n",
        "\n",
        "if __name__ == \"__main__\":\n",
        "    g = Guitar()\n",
        "    p = Piano()\n",
        "\n",
        "    perform(g)\n",
        "    perform(p)\n"
      ],
      "metadata": {
        "colab": {
          "base_uri": "https://localhost:8080/"
        },
        "id": "9teIGZfe4Jw_",
        "outputId": "8d893723-048a-4819-b2dd-159f3530c9a5"
      },
      "execution_count": 6,
      "outputs": [
        {
          "output_type": "stream",
          "name": "stdout",
          "text": [
            "Strumming the guitar strings.\n",
            "Pressing the piano keys.\n"
          ]
        }
      ]
    },
    {
      "cell_type": "code",
      "source": [
        "# Create a class MathOperations with a class method add_numbers() to add two numbers and a static method subtract_numbers() to subtract two numbers.\n",
        "class MathOperations:\n",
        "\n",
        "    @classmethod\n",
        "    def add_numbers(cls, a, b):\n",
        "        return a + b\n",
        "\n",
        "    @staticmethod\n",
        "    def subtract_numbers(a, b):\n",
        "        return a - b\n",
        "\n",
        "if __name__ == \"__main__\":\n",
        "    sum_result = MathOperations.add_numbers(10, 5)\n",
        "    print(f\"Sum: {sum_result}\")\n",
        "\n",
        "    difference = MathOperations.subtract_numbers(10, 5)\n",
        "    print(f\"Difference: {difference}\")\n"
      ],
      "metadata": {
        "colab": {
          "base_uri": "https://localhost:8080/"
        },
        "id": "bmFA5r4O4S_F",
        "outputId": "31e0f608-661c-47cf-936b-3406e01e0b72"
      },
      "execution_count": 7,
      "outputs": [
        {
          "output_type": "stream",
          "name": "stdout",
          "text": [
            "Sum: 15\n",
            "Difference: 5\n"
          ]
        }
      ]
    },
    {
      "cell_type": "code",
      "source": [
        "# Implement a class Person with a class method to count the total number of persons created.\n",
        "class Person:\n",
        "    _count = 0\n",
        "\n",
        "    def __init__(self, name):\n",
        "        self.name = name\n",
        "        Person._count += 1\n",
        "\n",
        "    @classmethod\n",
        "    def total_persons(cls):\n",
        "        return cls._count\n",
        "\n",
        "if __name__ == \"__main__\":\n",
        "    p1 = Person(\"Alice\")\n",
        "    p2 = Person(\"Bob\")\n",
        "    p3 = Person(\"Charlie\")\n",
        "\n",
        "    print(f\"Total persons created: {Person.total_persons()}\")\n"
      ],
      "metadata": {
        "colab": {
          "base_uri": "https://localhost:8080/"
        },
        "id": "YZHWtqNK4bLx",
        "outputId": "87e4f218-391c-4fa9-a823-061ae5d7a511"
      },
      "execution_count": 8,
      "outputs": [
        {
          "output_type": "stream",
          "name": "stdout",
          "text": [
            "Total persons created: 3\n"
          ]
        }
      ]
    },
    {
      "cell_type": "code",
      "source": [
        "# Write a class Fraction with attributes numerator and denominator. Override the str method to display the fraction as \"numerator/denominator\".\n",
        "class Fraction:\n",
        "    def __init__(self, numerator, denominator):\n",
        "        if denominator == 0:\n",
        "            raise ValueError(\"Denominator cannot be zero.\")\n",
        "        self.numerator = numerator\n",
        "        self.denominator = denominator\n",
        "\n",
        "    def __str__(self):\n",
        "        return f\"{self.numerator}/{self.denominator}\"\n",
        "\n",
        "if __name__ == \"__main__\":\n",
        "    f1 = Fraction(3, 4)\n",
        "    f2 = Fraction(5, 8)\n",
        "\n",
        "    print(f\"First fraction: {f1}\")\n",
        "    print(f\"Second fraction: {f2}\")\n"
      ],
      "metadata": {
        "colab": {
          "base_uri": "https://localhost:8080/"
        },
        "id": "P3Q6GkQk4rS4",
        "outputId": "7babc150-1c53-4684-bb0e-77b5b16e22f8"
      },
      "execution_count": 9,
      "outputs": [
        {
          "output_type": "stream",
          "name": "stdout",
          "text": [
            "First fraction: 3/4\n",
            "Second fraction: 5/8\n"
          ]
        }
      ]
    },
    {
      "cell_type": "code",
      "source": [
        "# Demonstrate operator overloading by creating a class Vector and overriding the add method to add two vectors.\n",
        "class Vector:\n",
        "    def __init__(self, x, y):\n",
        "        self.x = x\n",
        "        self.y = y\n",
        "\n",
        "    def __add__(self, other):\n",
        "        if isinstance(other, Vector):\n",
        "            return Vector(self.x + other.x, self.y + other.y)\n",
        "        return NotImplemented\n",
        "\n",
        "    def __str__(self):\n",
        "        return f\"({self.x}, {self.y})\"\n",
        "\n",
        "\n",
        "if __name__ == \"__main__\":\n",
        "    v1 = Vector(2, 3)\n",
        "    v2 = Vector(4, 5)\n",
        "\n",
        "    v3 = v1 + v2\n",
        "    print(f\"Vector 1: {v1}\")\n",
        "    print(f\"Vector 2: {v2}\")\n",
        "    print(f\"Sum of vectors: {v3}\")\n"
      ],
      "metadata": {
        "colab": {
          "base_uri": "https://localhost:8080/"
        },
        "id": "HxhYk8ji4z9K",
        "outputId": "90c192ca-0471-497d-c776-1e8808d976f7"
      },
      "execution_count": 10,
      "outputs": [
        {
          "output_type": "stream",
          "name": "stdout",
          "text": [
            "Vector 1: (2, 3)\n",
            "Vector 2: (4, 5)\n",
            "Sum of vectors: (6, 8)\n"
          ]
        }
      ]
    },
    {
      "cell_type": "code",
      "source": [
        "# Create a class Person with attributes name and age. Add a method greet() that prints \"Hello, my name is {name} and I am {age} years old.\"\n",
        "class Person:\n",
        "    def __init__(self, name, age):\n",
        "        self.name = name\n",
        "        self.age = age\n",
        "\n",
        "    def greet(self):\n",
        "        print(f\"Hello, my name is {self.name} and I am {self.age} years old.\")\n",
        "\n",
        "if __name__ == \"__main__\":\n",
        "    p1 = Person(\"Alice\", 25)\n",
        "    p2 = Person(\"Bob\", 30)\n",
        "\n",
        "    p1.greet()\n",
        "    p2.greet()\n"
      ],
      "metadata": {
        "colab": {
          "base_uri": "https://localhost:8080/"
        },
        "id": "esIV0LJw5AgV",
        "outputId": "d7fd0d96-bf83-40ed-8972-2787ba83ae30"
      },
      "execution_count": 11,
      "outputs": [
        {
          "output_type": "stream",
          "name": "stdout",
          "text": [
            "Hello, my name is Alice and I am 25 years old.\n",
            "Hello, my name is Bob and I am 30 years old.\n"
          ]
        }
      ]
    },
    {
      "cell_type": "code",
      "source": [
        "# Implement a class Student with attributes name and grades. Create a method average_grade() to compute the average of the grades.\n",
        "class Student:\n",
        "    def __init__(self, name, grades):\n",
        "        self.name = name\n",
        "        self.grades = grades\n",
        "\n",
        "    def average_grade(self):\n",
        "        if not self.grades:\n",
        "            return 0\n",
        "        return sum(self.grades) / len(self.grades)\n",
        "\n",
        "if __name__ == \"__main__\":\n",
        "    student1 = Student(\"John Doe\", [85, 90, 78, 92])\n",
        "    student2 = Student(\"Jane Smith\", [])\n",
        "\n",
        "    print(f\"{student1.name}'s average grade: {student1.average_grade():.2f}\")\n",
        "    print(f\"{student2.name}'s average grade: {student2.average_grade():.2f}\")\n"
      ],
      "metadata": {
        "colab": {
          "base_uri": "https://localhost:8080/"
        },
        "id": "3abBXiFJ5Iwd",
        "outputId": "42fbc9c9-3527-4865-d7fb-9c513aaa6c0b"
      },
      "execution_count": 12,
      "outputs": [
        {
          "output_type": "stream",
          "name": "stdout",
          "text": [
            "John Doe's average grade: 86.25\n",
            "Jane Smith's average grade: 0.00\n"
          ]
        }
      ]
    },
    {
      "cell_type": "code",
      "source": [
        "# Create a class Rectangle with methods set_dimensions() to set the dimensions and area() to calculate the area.\n",
        "class Rectangle:\n",
        "    def __init__(self):\n",
        "        self.length = 0\n",
        "        self.width = 0\n",
        "\n",
        "    def set_dimensions(self, length, width):\n",
        "        if length <= 0 or width <= 0:\n",
        "            raise ValueError(\"Length and width must be positive numbers.\")\n",
        "        self.length = length\n",
        "        self.width = width\n",
        "\n",
        "    def area(self):\n",
        "        return self.length * self.width\n",
        "\n",
        "if __name__ == \"__main__\":\n",
        "    rect = Rectangle()\n",
        "    rect.set_dimensions(10, 5)\n",
        "    print(f\"Area of the rectangle: {rect.area()}\")\n"
      ],
      "metadata": {
        "colab": {
          "base_uri": "https://localhost:8080/"
        },
        "id": "Gzl8QdpX5Q7f",
        "outputId": "ae7a3514-a93a-4119-9ffa-d0f271d34b32"
      },
      "execution_count": 13,
      "outputs": [
        {
          "output_type": "stream",
          "name": "stdout",
          "text": [
            "Area of the rectangle: 50\n"
          ]
        }
      ]
    },
    {
      "cell_type": "code",
      "source": [
        "# Create a class Employee with a method calculate_salary() that computes the salary based on hours worked and hourly rate. Create a derived class Manager that adds a bonus to the salary.\n",
        "class Employee:\n",
        "    def __init__(self, name, hours_worked, hourly_rate):\n",
        "        self.name = name\n",
        "        self.hours_worked = hours_worked\n",
        "        self.hourly_rate = hourly_rate\n",
        "\n",
        "    def calculate_salary(self):\n",
        "        return self.hours_worked * self.hourly_rate\n",
        "\n",
        "class Manager(Employee):\n",
        "    def __init__(self, name, hours_worked, hourly_rate, bonus):\n",
        "        super().__init__(name, hours_worked, hourly_rate)\n",
        "        self.bonus = bonus\n",
        "\n",
        "    def calculate_salary(self):\n",
        "        base_salary = super().calculate_salary()\n",
        "        return base_salary + self.bonus\n",
        "\n",
        "if __name__ == \"__main__\":\n",
        "    emp = Employee(\"Alice\", 40, 20)\n",
        "    mgr = Manager(\"Bob\", 40, 30, 500)\n",
        "\n",
        "    print(f\"{emp.name}'s Salary: ₹{emp.calculate_salary()}\")\n",
        "    print(f\"{mgr.name}'s Salary: ₹{mgr.calculate_salary()}\")\n"
      ],
      "metadata": {
        "colab": {
          "base_uri": "https://localhost:8080/"
        },
        "id": "7XDDeW395aX7",
        "outputId": "7ca784a6-26d5-4d06-9638-261f797bfb34"
      },
      "execution_count": 14,
      "outputs": [
        {
          "output_type": "stream",
          "name": "stdout",
          "text": [
            "Alice's Salary: ₹800\n",
            "Bob's Salary: ₹1700\n"
          ]
        }
      ]
    },
    {
      "cell_type": "code",
      "source": [
        "# Create a class Product with attributes name, price, and quantity. Implement a method total_price() that calculates the total price of the product.\n",
        "class Product:\n",
        "    def __init__(self, name, price, quantity):\n",
        "        self.name = name\n",
        "        self.price = price\n",
        "        self.quantity = quantity\n",
        "\n",
        "    def total_price(self):\n",
        "        return self.price * self.quantity\n",
        "\n",
        "if __name__ == \"__main__\":\n",
        "    product = Product(\"Laptop\", 75000, 3)\n",
        "    print(f\"Product: {product.name}\")\n",
        "    print(f\"Total Price: ₹{product.total_price()}\")\n"
      ],
      "metadata": {
        "colab": {
          "base_uri": "https://localhost:8080/"
        },
        "id": "TueCF3LQ5jFB",
        "outputId": "a4e707cc-8b32-4d82-84d3-7fcadeec00b1"
      },
      "execution_count": 15,
      "outputs": [
        {
          "output_type": "stream",
          "name": "stdout",
          "text": [
            "Product: Laptop\n",
            "Total Price: ₹225000\n"
          ]
        }
      ]
    },
    {
      "cell_type": "code",
      "source": [
        "# Create a class Animal with an abstract method sound(). Create two derived classes Cow and Sheep that implement the sound() method.\n",
        "from abc import ABC, abstractmethod\n",
        "\n",
        "class Animal(ABC):\n",
        "    @abstractmethod\n",
        "    def sound(self):\n",
        "        pass\n",
        "\n",
        "class Cow(Animal):\n",
        "    def sound(self):\n",
        "        return \"Moo\"\n",
        "\n",
        "class Sheep(Animal):\n",
        "    def sound(self):\n",
        "        return \"Baa\"\n",
        "\n",
        "if __name__ == \"__main__\":\n",
        "    cow = Cow()\n",
        "    sheep = Sheep()\n",
        "\n",
        "    print(f\"Cow says: {cow.sound()}\")\n",
        "    print(f\"Sheep says: {sheep.sound()}\")\n"
      ],
      "metadata": {
        "colab": {
          "base_uri": "https://localhost:8080/"
        },
        "id": "Lu1DfyfW5ugh",
        "outputId": "22a1017c-3ced-40ed-9dfa-60897a909be7"
      },
      "execution_count": 16,
      "outputs": [
        {
          "output_type": "stream",
          "name": "stdout",
          "text": [
            "Cow says: Moo\n",
            "Sheep says: Baa\n"
          ]
        }
      ]
    },
    {
      "cell_type": "code",
      "source": [
        "# Create a class Book with attributes title, author, and year_published. Add a method get_book_info() that returns a formatted string with the book's details.\n",
        "class Book:\n",
        "    def __init__(self, title, author, year_published):\n",
        "        self.title = title\n",
        "        self.author = author\n",
        "        self.year_published = year_published\n",
        "\n",
        "    def get_book_info(self):\n",
        "        return f\"'{self.title}' by {self.author}, published in {self.year_published}\"\n",
        "\n",
        "if __name__ == \"__main__\":\n",
        "    book = Book(\"To Kill a Mockingbird\", \"Harper Lee\", 1960)\n",
        "    print(book.get_book_info())\n"
      ],
      "metadata": {
        "colab": {
          "base_uri": "https://localhost:8080/"
        },
        "id": "Sn65BOX352UO",
        "outputId": "8d8f48cf-c043-4584-b50c-b08b9445e54a"
      },
      "execution_count": 17,
      "outputs": [
        {
          "output_type": "stream",
          "name": "stdout",
          "text": [
            "'To Kill a Mockingbird' by Harper Lee, published in 1960\n"
          ]
        }
      ]
    },
    {
      "cell_type": "code",
      "source": [
        "# Create a class House with attributes address and price. Create a derived class Mansion that adds an attribute number_of_rooms.\n",
        "class House:\n",
        "    def __init__(self, address, price):\n",
        "        self.address = address\n",
        "        self.price = price\n",
        "\n",
        "class Mansion(House):\n",
        "    def __init__(self, address, price, number_of_rooms):\n",
        "        super().__init__(address, price)\n",
        "        self.number_of_rooms = number_of_rooms\n",
        "\n",
        "    def display_info(self):\n",
        "        return (f\"Address: {self.address}, Price: ₹{self.price}, \"\n",
        "                f\"Number of Rooms: {self.number_of_rooms}\")\n",
        "\n",
        "if __name__ == \"__main__\":\n",
        "    house = House(\"123 Maple Street\", 5000000)\n",
        "    mansion = Mansion(\"456 Oak Avenue\", 15000000, 10)\n",
        "\n",
        "    print(f\"House - Address: {house.address}, Price: ₹{house.price}\")\n",
        "    print(mansion.display_info())\n"
      ],
      "metadata": {
        "colab": {
          "base_uri": "https://localhost:8080/"
        },
        "id": "GY6uoMpN6DR6",
        "outputId": "ff93915e-e08f-4917-8a84-785afbae9a86"
      },
      "execution_count": 18,
      "outputs": [
        {
          "output_type": "stream",
          "name": "stdout",
          "text": [
            "House - Address: 123 Maple Street, Price: ₹5000000\n",
            "Address: 456 Oak Avenue, Price: ₹15000000, Number of Rooms: 10\n"
          ]
        }
      ]
    }
  ]
}