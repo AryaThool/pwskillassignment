{
  "nbformat": 4,
  "nbformat_minor": 0,
  "metadata": {
    "colab": {
      "provenance": [],
      "authorship_tag": "ABX9TyOFZEwaTLYW06Ne3vTpzC7G",
      "include_colab_link": true
    },
    "kernelspec": {
      "name": "python3",
      "display_name": "Python 3"
    },
    "language_info": {
      "name": "python"
    }
  },
  "cells": [
    {
      "cell_type": "markdown",
      "metadata": {
        "id": "view-in-github",
        "colab_type": "text"
      },
      "source": [
        "<a href=\"https://colab.research.google.com/github/AryaThool/pwskillassignment/blob/main/OOPS.ipynb\" target=\"_parent\"><img src=\"https://colab.research.google.com/assets/colab-badge.svg\" alt=\"Open In Colab\"/></a>"
      ]
    },
    {
      "cell_type": "markdown",
      "source": [
        "# Theory Solutions"
      ],
      "metadata": {
        "id": "ziH84CQ1paM1"
      }
    },
    {
      "cell_type": "markdown",
      "source": [
        "1. What is Object-Oriented Programming (OOPS)?\n",
        "   - OOP is a programming paradigm that models software design around objects, which contain data (attributes) and methods (functions). Core principles include encapsulation, inheritance, polymorphism, and abstraction.\n",
        "\n",
        "\n",
        "\n"
      ],
      "metadata": {
        "id": "Zqu63kItpiSF"
      }
    },
    {
      "cell_type": "markdown",
      "source": [
        "2. What is a class in OOP?\n",
        "   - A class is a blueprint for creating objects. It defines a set of attributes and methods that the created objects will have."
      ],
      "metadata": {
        "id": "xzbQIiEfp4EI"
      }
    },
    {
      "cell_type": "markdown",
      "source": [
        "3. What is an object in OOP?\n",
        "   - An object is an instance of a class. It represents a specific entity with defined attributes and behaviors."
      ],
      "metadata": {
        "id": "srPcCEXtp_2f"
      }
    },
    {
      "cell_type": "markdown",
      "source": [
        "4. What is the difference between abstraction and encapsulation?\n",
        "   *   Abstraction hides implementation details and shows only the functionality.\n",
        "   *   Encapsulation binds data and methods together and restricts access to internal details using access modifiers.\n",
        "\n"
      ],
      "metadata": {
        "id": "MKZ78agpqGYX"
      }
    },
    {
      "cell_type": "markdown",
      "source": [
        "5. What are dunder methods in Python?\n",
        "   - Dunder methods (double underscores), like __init__, __str__, __repr__, are special methods that Python uses to provide operator overloading and built-in behavior customization."
      ],
      "metadata": {
        "id": "pN9HoDEXqZNL"
      }
    },
    {
      "cell_type": "markdown",
      "source": [
        "6. Explain the concept of inheritance in OOP.\n",
        "   - Inheritance allows a class (child/derived class) to inherit attributes and methods from another class (parent/base class), promoting code reuse."
      ],
      "metadata": {
        "id": "hNthJtp-qhAm"
      }
    },
    {
      "cell_type": "markdown",
      "source": [
        "7. What is polymorphism in OOP?\n",
        "   - Polymorphism allows the same method name or operation to behave differently based on the object or context (e.g., method overriding)."
      ],
      "metadata": {
        "id": "or6L2aNYqo6a"
      }
    },
    {
      "cell_type": "markdown",
      "source": [
        "8. How is encapsulation achieved in Python?\n",
        "   - Encapsulation is done by using private (_var or __var) and protected members, and defining getter/setter methods or using @property decorators.\n",
        "\n"
      ],
      "metadata": {
        "id": "YUByEV0Squrj"
      }
    },
    {
      "cell_type": "markdown",
      "source": [
        "9. What is a constructor in Python?\n",
        "  - A constructor is a special method __init__() that is automatically called when an object is created to initialize its attributes."
      ],
      "metadata": {
        "id": "5FrF5PNIq3r-"
      }
    },
    {
      "cell_type": "markdown",
      "source": [
        "10. What are class and static methods in Python?\n",
        "   - Class methods use @classmethod and take cls as a parameter. They can access and modify class state.\n",
        "\n",
        "   - Static methods use @staticmethod and do not access instance or class-level data.\n",
        "\n"
      ],
      "metadata": {
        "id": "xuDlYOqxq8uZ"
      }
    },
    {
      "cell_type": "markdown",
      "source": [
        "11. What is method overloading in Python?\n",
        "   - Python does not support true method overloading, but similar behavior can be achieved using default parameters or *args/**kwargs."
      ],
      "metadata": {
        "id": "e8l8PILwrJJC"
      }
    },
    {
      "cell_type": "markdown",
      "source": [
        "12. What is method overriding in OOP?\n",
        "   - Method overriding is when a child class provides a specific implementation of a method already defined in the parent class."
      ],
      "metadata": {
        "id": "bFYURHt6rPGq"
      }
    },
    {
      "cell_type": "markdown",
      "source": [
        "13. What is a property decorator in Python?\n",
        "    - @property is a decorator that allows you to define a method as a read-only property, enabling controlled access to private variables like obj.prop instead of obj.get_prop().\n",
        "\n"
      ],
      "metadata": {
        "id": "2Yp7gs3IrUEO"
      }
    },
    {
      "cell_type": "markdown",
      "source": [
        "14. Why is polymorphism important in OOP?\n",
        "   - Polymorphism enhances flexibility and maintainability by allowing code to be written in a general way, with objects of different classes being treated uniformly."
      ],
      "metadata": {
        "id": "ClNokkvurZqC"
      }
    },
    {
      "cell_type": "markdown",
      "source": [
        "15. What is an abstract class in Python?\n",
        "    - An abstract class (from abc module) cannot be instantiated and may contain abstract methods that must be implemented in subclasses."
      ],
      "metadata": {
        "id": "kDacRXhtrfoA"
      }
    },
    {
      "cell_type": "markdown",
      "source": [
        "16. What are the advantages of OOP?\n",
        "   - Modularity through classes\n",
        "   - Reusability via inheritance\n",
        "   - Scalability and maintainability\n",
        "   - Data hiding and security through encapsulation\n",
        "\n"
      ],
      "metadata": {
        "id": "NDPrqfJQrk_K"
      }
    },
    {
      "cell_type": "markdown",
      "source": [
        "17. What is the difference between a class variable and an instance variable?\n",
        "   - Class variables are shared across all instances.\n",
        "   - Instance variables are unique to each object.\n",
        "\n",
        ""
      ],
      "metadata": {
        "id": "T750DHOhr4A-"
      }
    },
    {
      "cell_type": "markdown",
      "source": [
        "18. What is multiple inheritance in Python?\n",
        "   - Python allows a class to inherit from multiple parent classes, which can lead to method resolution order (MRO) complexities."
      ],
      "metadata": {
        "id": "MDMlBkvVsAfP"
      }
    },
    {
      "cell_type": "markdown",
      "source": [
        "19. Explain the purpose of __str__ and __repr__ methods in Python.\n",
        "   - __str__: Returns a user-friendly string representation, used with print().\n",
        "   - __repr__: Returns an unambiguous string (developer-oriented), used for debugging.\n",
        "\n"
      ],
      "metadata": {
        "id": "2fpOThoesGF8"
      }
    },
    {
      "cell_type": "markdown",
      "source": [
        "20. What is the significance of the super() function in Python?\n",
        "   - super() is used to call methods of a parent class, especially in constructor chaining and method overriding.\n",
        "\n"
      ],
      "metadata": {
        "id": "tzd5U7i7sQGe"
      }
    },
    {
      "cell_type": "markdown",
      "source": [
        "21. What is the significance of the __del__ method in Python?\n",
        "   - __del__() is a destructor method that is called when an object is about to be destroyed, often used for cleanup.\n",
        "\n"
      ],
      "metadata": {
        "id": "m1hYut-csUsk"
      }
    },
    {
      "cell_type": "markdown",
      "source": [
        "22. What is the difference between @staticmethod and @classmethod in Python?\n",
        "   - @staticmethod: No access to class or instance; behaves like a regular function inside a class.\n",
        "   - @classmethod: Access to the class via cls, useful for factory methods or modifying class state.\n",
        "\n"
      ],
      "metadata": {
        "id": "8ybujnHwseFt"
      }
    },
    {
      "cell_type": "markdown",
      "source": [
        "23. How does polymorphism work in Python with inheritance?\n",
        "   - Python supports polymorphism by allowing subclasses to override methods of the parent class, enabling dynamic method resolution at runtime.\n",
        "\n"
      ],
      "metadata": {
        "id": "S2IScaB9smBG"
      }
    },
    {
      "cell_type": "markdown",
      "source": [
        "24. What is method chaining in Python OOP?\n",
        "   - Method chaining is when multiple methods are called sequentially on the same object, typically returning self in each method."
      ],
      "metadata": {
        "id": "ui8UqUbfsqk-"
      }
    },
    {
      "cell_type": "markdown",
      "source": [
        "25. What is the purpose of the __call__ method in Python?\n",
        "   - The __call__() method allows an object to be called like a function. This is useful for functors and objects acting like functions."
      ],
      "metadata": {
        "id": "fLOnOc-Iswdo"
      }
    },
    {
      "cell_type": "markdown",
      "source": [
        "# Practical Solutions"
      ],
      "metadata": {
        "id": "lxW98fMes3xM"
      }
    },
    {
      "cell_type": "code",
      "source": [],
      "metadata": {
        "id": "cMCL8Ia-s68C"
      },
      "execution_count": null,
      "outputs": []
    }
  ]
}