{
  "nbformat": 4,
  "nbformat_minor": 0,
  "metadata": {
    "colab": {
      "provenance": [],
      "authorship_tag": "ABX9TyN4M+/c/F+XiEFks0ornCec",
      "include_colab_link": true
    },
    "kernelspec": {
      "name": "python3",
      "display_name": "Python 3"
    },
    "language_info": {
      "name": "python"
    }
  },
  "cells": [
    {
      "cell_type": "markdown",
      "metadata": {
        "id": "view-in-github",
        "colab_type": "text"
      },
      "source": [
        "<a href=\"https://colab.research.google.com/github/AryaThool/pwskillassignment/blob/main/Data_Toolkit.ipynb\" target=\"_parent\"><img src=\"https://colab.research.google.com/assets/colab-badge.svg\" alt=\"Open In Colab\"/></a>"
      ]
    },
    {
      "cell_type": "markdown",
      "source": [
        "# Theory Solutions"
      ],
      "metadata": {
        "id": "qxkmBYlk-uRR"
      }
    },
    {
      "cell_type": "markdown",
      "source": [
        "1.  What is NumPy, and why is it widely used in Python?\n",
        "   - NumPy (Numerical Python) is a powerful Python library used for numerical and scientific computing."
      ],
      "metadata": {
        "id": "oSHHhWdS-y5h"
      }
    },
    {
      "cell_type": "markdown",
      "source": [
        "2. How does broadcasting work in NumPy?\n",
        "   - Broadcasting allows NumPy to perform arithmetic operations on arrays of different shapes without explicitly replicating data. It stretches the smaller array across the larger one so operations can proceed element-wise efficiently."
      ],
      "metadata": {
        "id": "B26sv6KC_Dz3"
      }
    },
    {
      "cell_type": "markdown",
      "source": [
        "3. What is a Pandas DataFrame?\n",
        "   - A Pandas DataFrame is a 2-dimensional, labeled data structure with columns of potentially different data types. It is similar to a table in a relational database or an Excel spreadsheet and is core to data manipulation in Python."
      ],
      "metadata": {
        "id": "-H677-hx_IVE"
      }
    },
    {
      "cell_type": "markdown",
      "source": [
        "4. Explain the use of the `groupby()` method in Pandas.\n",
        "   - The `groupby()` method splits the data into groups based on some criteria, applies a function (e.g., `sum()`, `mean()`), and combines the results. It's widely used for aggregation and transformation tasks."
      ],
      "metadata": {
        "id": "jO8HJMlu_MgF"
      }
    },
    {
      "cell_type": "markdown",
      "source": [
        "5. Why is Seaborn preferred for statistical visualizations?\n",
        "   - Seaborn builds on Matplotlib and simplifies the creation of aesthetically pleasing and informative statistical plots, such as violin plots, box plots, and distribution plots, with fewer lines of code and built-in themes.\n",
        "\n"
      ],
      "metadata": {
        "id": "oi3kZaQl_YWG"
      }
    },
    {
      "cell_type": "markdown",
      "source": [
        "6. What are the differences between NumPy arrays and Python lists?\n",
        "  \n",
        "\n",
        "   *   Performance: NumPy arrays are faster and more memory efficient.\n",
        "   *   Functionality: Arrays support vectorized operations; lists do not.\n",
        "\n",
        "\n",
        "\n"
      ],
      "metadata": {
        "id": "EJxxeAsl_eHD"
      }
    },
    {
      "cell_type": "markdown",
      "source": [
        "7. What is a heatmap, and when should it be used?\n",
        "    - A heatmap is a data visualization that shows matrix-like data with color gradients. It is ideal for showing correlation matrices, missing data patterns, or frequency distributions."
      ],
      "metadata": {
        "id": "CKfEpC8O_zFm"
      }
    },
    {
      "cell_type": "markdown",
      "source": [
        "8. What does the term “vectorized operation” mean in NumPy?\n",
        "    - A vectorized operation performs computations over entire arrays without using explicit Python loops. This leads to concise code and significant performance gains.\n",
        "\n"
      ],
      "metadata": {
        "id": "Ha1KkvCa_3zm"
      }
    },
    {
      "cell_type": "markdown",
      "source": [
        "9. How does Matplotlib differ from Plotly?\n",
        "    - Matplotlib: Static, publication-quality charts; ideal for traditional plotting.\n",
        "    - Plotly: Interactive, web-friendly, and dynamic charts with zoom, hover, and export features.\n",
        "\n"
      ],
      "metadata": {
        "id": "avQJRGhf_9Xa"
      }
    },
    {
      "cell_type": "markdown",
      "source": [
        "10. What is the significance of hierarchical indexing in Pandas?\n",
        "    - Hierarchical indexing allows for multi-level indexing of rows and columns, enabling the representation of higher-dimensional data in a 2D DataFrame, which aids in complex data analysis and reshaping."
      ],
      "metadata": {
        "id": "lwrM9h3uAEEi"
      }
    },
    {
      "cell_type": "markdown",
      "source": [
        "11. What is the role of Seaborn’s `pairplot()` function?\n",
        "    -  ` pairplot()` creates a matrix of scatter plots for each pair of numeric variables and histograms on the diagonals. It is useful for exploring relationships and distributions in multivariate datasets.\n",
        "\n"
      ],
      "metadata": {
        "id": "82E6t6q-AIEq"
      }
    },
    {
      "cell_type": "markdown",
      "source": [
        "12. What is the purpose of the `describe()` function in Pandas?\n",
        "    - The `describe()` function generates descriptive statistics like count, mean, std deviation, min, max, and quartiles for numerical columns, giving a quick overview of the dataset.\n",
        "\n"
      ],
      "metadata": {
        "id": "pZ9gxiIKAWg-"
      }
    },
    {
      "cell_type": "markdown",
      "source": [
        "13.  Why is handling missing data important in Pandas?\n",
        "     - Missing data can skew analysis, models, and results. Pandas provides tools (`fillna()`, `dropna()`) to detect, impute, or remove missing values, ensuring data integrity and model reliability.\n",
        "\n"
      ],
      "metadata": {
        "id": "1-1zsat3Aeb_"
      }
    },
    {
      "cell_type": "markdown",
      "source": [
        "14. What are the benefits of using Plotly for data visualization?\n",
        "    - Interactive and responsive charts.\n",
        "    - Support for dashboards and animations.\n",
        "\n"
      ],
      "metadata": {
        "id": "tBShkOLMAmaQ"
      }
    },
    {
      "cell_type": "markdown",
      "source": [
        "15. How does NumPy handle multidimensional arrays?\n",
        "    - NumPy uses the ndarray object to handle arrays of arbitrary dimensions (e.g., 2D, 3D). It provides functions to reshape, slice, broadcast, and perform computations on multi-dimensional data efficiently."
      ],
      "metadata": {
        "id": "TNVOvGQCA0wJ"
      }
    },
    {
      "cell_type": "markdown",
      "source": [
        "16. What is the role of Bokeh in data visualization?\n",
        "    - Bokeh is a powerful library for creating interactive and web-based visualizations. It integrates with HTML/JS and is ideal for dashboards and streaming datasets."
      ],
      "metadata": {
        "id": "iWvDpnCEA6e0"
      }
    },
    {
      "cell_type": "markdown",
      "source": [
        "17. Explain the difference between `apply()` and `map()` in Pandas.\n",
        "    - `map()`: Used with Series for element-wise operations using a function or dict.\n",
        "    - `apply()`: More general; can be used on Series or DataFrames, allowing row/column-wise operations with more flexibility."
      ],
      "metadata": {
        "id": "qnMRAGCfA-xK"
      }
    },
    {
      "cell_type": "markdown",
      "source": [
        "18. What are some advanced features of NumPy?\n",
        "    - Masked arrays for handling invalid data.\n",
        "    - Memory-mapped files for large datasets."
      ],
      "metadata": {
        "id": "wLS0GPKjBNXs"
      }
    },
    {
      "cell_type": "markdown",
      "source": [
        "19. How does Pandas simplify time series analysis?\n",
        "    - Date-time indexing and resampling.\n",
        "    - Rolling and expanding window operations."
      ],
      "metadata": {
        "id": "pc0PLQY6BT0p"
      }
    },
    {
      "cell_type": "markdown",
      "source": [
        "20. What is the role of a pivot table in Pandas?\n",
        "    - A pivot table allows you to summarize data using groupings and aggregations, enabling multidimensional analysis similar to Excel’s pivot functionality using `pivot_table()`.\n",
        "\n"
      ],
      "metadata": {
        "id": "hoAcGlqBBbdu"
      }
    },
    {
      "cell_type": "markdown",
      "source": [
        "21. Why is NumPy’s array slicing faster than Python’s list slicing?\n",
        "    - NumPy arrays store data in contiguous blocks of memory, allowing faster computation and memory access. Python lists are arrays of pointers and involve more overhead during slicing."
      ],
      "metadata": {
        "id": "T_DBvINXBh0W"
      }
    },
    {
      "cell_type": "markdown",
      "source": [
        "22. What are some common use cases for Seaborn?\n",
        "    - Visualizing statistical relationships (e.g., regplot, lmplot).\n",
        "    - Analyzing distributions (distplot, kdeplot).\n",
        "    - Multivariate analysis using pairplot() and facetgrid."
      ],
      "metadata": {
        "id": "7811tR94BnBz"
      }
    },
    {
      "cell_type": "markdown",
      "source": [
        "# Practical Solutions"
      ],
      "metadata": {
        "id": "KqIzw94JBvnp"
      }
    },
    {
      "cell_type": "code",
      "execution_count": null,
      "metadata": {
        "id": "Am8Oe2DD-rVr"
      },
      "outputs": [],
      "source": []
    }
  ]
}